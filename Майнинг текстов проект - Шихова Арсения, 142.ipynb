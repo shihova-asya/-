{
 "cells": [
  {
   "cell_type": "markdown",
   "metadata": {},
   "source": [
    "# Майнинг текстов, ФКН ВШЭ\n",
    "## Оценка параметров закона Ципфа для научной и художественной литературы\n",
    "### Шихова Арсения, группа БПМИ142"
   ]
  },
  {
   "cell_type": "markdown",
   "metadata": {},
   "source": [
    "Пусть $p$ - частота слова в тексте, $r$ - его ранг, То есть самое частое слово имеет ранг $1$, второе по частоте - ранг $2$, и так далее.\n",
    "Закон Ципфа для текстов гласит: $p = \\frac{C}{r^\\alpha}$, где $\\alpha \\to 1$. Моя задача заключается в том, чтобы методом линейной регрессии построить точечные оценки и доверительные интервалы для $C$ и $\\alpha$.\n",
    "\n",
    "\n",
    "Подробнее о законе Ципфа:\n",
    "https://terrytao.wordpress.com/2009/07/03/benfords-law-zipfs-law-and-the-pareto-distribution/\n",
    "http://citeseerx.ist.psu.edu/viewdoc/download?doi=10.1.1.164.8422&rep=rep1&type=pdf"
   ]
  },
  {
   "cell_type": "markdown",
   "metadata": {
    "collapsed": true
   },
   "source": [
    "На вход подаются два текста. В файле input.txt --- книга \"Обитаемый остров\" (вариант 1971 года) братьев Стругацких, в файле input2.txt --- гимн НИУ ВШЭ."
   ]
  },
  {
   "cell_type": "markdown",
   "metadata": {},
   "source": [
    "Импортируем все необходимые библиотеки и функции:"
   ]
  },
  {
   "cell_type": "code",
   "execution_count": 1,
   "metadata": {
    "collapsed": false
   },
   "outputs": [],
   "source": [
    "import matplotlib.pyplot as plt\n",
    "from pymystem3 import Mystem\n",
    "from string import punctuation\n",
    "from statsmodels.regression.linear_model import OLS\n",
    "from statsmodels import api as sm\n",
    "from math import log, e"
   ]
  },
  {
   "cell_type": "markdown",
   "metadata": {},
   "source": [
    "Для первой книги составляем словарь: сколько раз встречается каждое слово в тексте и каков его ранг. Для приведения слова к его нормальной форме (лемме) используем программу <a href=\"https://tech.yandex.ru/mystem/\">Mystem</a>."
   ]
  },
  {
   "cell_type": "code",
   "execution_count": 2,
   "metadata": {
    "collapsed": false
   },
   "outputs": [],
   "source": [
    "words = {} # Words and their numbers of occurrences\n",
    "m = Mystem()\n",
    "f = open('input.txt', encoding=\"utf-8\")\n",
    "for line in f:\n",
    "    line = \"\".join(symbol for symbol in line if symbol not in punctuation)\n",
    "    for lemma in m.lemmatize(line):\n",
    "        if lemma not in words:\n",
    "            words[lemma] = 1\n",
    "        else:\n",
    "            words[lemma] = words[lemma] + 1\n",
    "f.close()\n",
    "            \n",
    "words.pop(' ')\n",
    "words.pop('\\n')\n",
    "ranked_words = sorted(list(words.keys()), key=lambda x: words[x], reverse=True)\n",
    "N = len(ranked_words)\n",
    "max_freq = max(words.values())"
   ]
  },
  {
   "cell_type": "markdown",
   "metadata": {},
   "source": [
    "Построим график зависимости частоты от ранга слова:"
   ]
  },
  {
   "cell_type": "code",
   "execution_count": 3,
   "metadata": {
    "collapsed": false
   },
   "outputs": [
    {
     "data": {
      "image/png": "[encoded data removed]",
      "text/plain": [
       "<matplotlib.figure.Figure at 0x3f87a0fac8>"
      ]
     },
     "metadata": {},
     "output_type": "display_data"
    }
   ],
   "source": [
    "plt.plot(range(1, N + 1), [words[i] / N for i in ranked_words])\n",
    "plt.xlim(0, N + 1)\n",
    "plt.ylim(0)\n",
    "plt.show()"
   ]
  },
  {
   "cell_type": "markdown",
   "metadata": {},
   "source": [
    "Строим линейную регрессию $\\ln(p) = w_0 + w_1 \\cdot \\ln(r)$. Тогда $C = e^{w_0}$, $\\alpha = -w_1$."
   ]
  },
  {
   "cell_type": "code",
   "execution_count": 4,
   "metadata": {
    "collapsed": false
   },
   "outputs": [
    {
     "name": "stdout",
     "output_type": "stream",
     "text": [
      "С = 0.321417950182\n",
      "alpha = -1.04628706354\n",
      "Доверительный интервал для С: ( 0.320282959781 0.322556962663 )\n",
      "Доверительный интервал для alpha: ( -1.07543638038 -1.0171377467 )\n"
     ]
    }
   ],
   "source": [
    "y = [words[i] / N for i in ranked_words]\n",
    "y = [log(item) for item in y]\n",
    "X = [[log(i)] for i in range(1, N + 1)]\n",
    "X = sm.add_constant(X)\n",
    "lm = OLS(y, X)\n",
    "model = lm.fit()\n",
    "alpha, С = model.params \n",
    "С = e ** С; alpha = -alpha\n",
    "С_l, С_r = e ** model.conf_int()[1][0], e ** model.conf_int()[1][1]\n",
    "alpha_l, alpha_r = -model.conf_int()[0][1], -model.conf_int()[0][0]\n",
    "print(\"С =\", С)\n",
    "print(\"alpha =\", alpha)\n",
    "print(\"Доверительный интервал для С: (\", С_l, С_r, \")\")\n",
    "print(\"Доверительный интервал для alpha: (\", alpha_l, alpha_r, \")\")"
   ]
  },
  {
   "cell_type": "markdown",
   "metadata": {},
   "source": [
    "И то же самое для второй книги:"
   ]
  },
  {
   "cell_type": "code",
   "execution_count": 5,
   "metadata": {
    "collapsed": true
   },
   "outputs": [],
   "source": [
    "words2 = {} # Words and their numbers of occurrences\n",
    "m2 = Mystem()\n",
    "f = open('input2.txt', encoding=\"utf-8\")\n",
    "for line in f:\n",
    "    line = \"\".join(symbol for symbol in line if symbol not in punctuation)\n",
    "    for lemma in m2.lemmatize(line):\n",
    "        if lemma not in words2:\n",
    "            words2[lemma] = 1\n",
    "        else:\n",
    "            words2[lemma] = words2[lemma] + 1\n",
    "f.close()\n",
    "            \n",
    "words2.pop(' ')\n",
    "words2.pop('\\n')\n",
    "ranked_words2 = sorted(list(words2.keys()), key=lambda x: words2[x], reverse=True)\n",
    "N2 = len(ranked_words2)\n",
    "max_freq2 = max(words2.values())"
   ]
  },
  {
   "cell_type": "code",
   "execution_count": 6,
   "metadata": {
    "collapsed": false
   },
   "outputs": [
    {
     "data": {
      "image/png": "[encoded data removed]",
      "text/plain": [
       "<matplotlib.figure.Figure at 0x3f87c8c630>"
      ]
     },
     "metadata": {},
     "output_type": "display_data"
    }
   ],
   "source": [
    "plt.plot(range(1, N2 + 1), [words2[i] / N2 for i in ranked_words2])\n",
    "plt.xlim(0, N2 + 1)\n",
    "plt.ylim(0)\n",
    "plt.show()"
   ]
  },
  {
   "cell_type": "code",
   "execution_count": 7,
   "metadata": {
    "collapsed": false
   },
   "outputs": [
    {
     "name": "stdout",
     "output_type": "stream",
     "text": [
      "С = 0.68762138001\n",
      "alpha = 2.6254096835\n",
      "Доверительный интервал для С: ( 0.649975948144 0.727447167233 )\n",
      "Доверительный интервал для alpha: ( 2.45102434568 2.79979502132 )\n"
     ]
    }
   ],
   "source": [
    "y2 = [words2[i] / N2 for i in ranked_words2]\n",
    "y2 = [log(item) for item in y2]\n",
    "X2 = [[log(i)] for i in range(1, N2 + 1)]\n",
    "X2 = sm.add_constant(X2)\n",
    "lm2 = OLS(y2, X2)\n",
    "model2 = lm2.fit()\n",
    "alpha2, С2 = model2.params \n",
    "С2 = e ** С2; alpha2 = -alpha2\n",
    "С2_l, С2_r = e ** model2.conf_int()[1][0], e ** model2.conf_int()[1][1]\n",
    "alpha2_l, alpha2_r = -model2.conf_int()[0][1], -model2.conf_int()[0][0]\n",
    "print(\"С =\", С2)\n",
    "print(\"alpha =\", alpha2)\n",
    "print(\"Доверительный интервал для С: (\", С2_l, С2_r, \")\")\n",
    "print(\"Доверительный интервал для alpha: (\", alpha2_l, alpha2_r, \")\")"
   ]
  }
 ],
 "metadata": {
  "kernelspec": {
   "display_name": "Python 3",
   "language": "python",
   "name": "python3"
  },
  "language_info": {
   "codemirror_mode": {
    "name": "ipython",
    "version": 3
   },
   "file_extension": ".py",
   "mimetype": "text/x-python",
   "name": "python",
   "nbconvert_exporter": "python",
   "pygments_lexer": "ipython3",
   "version": "3.5.2"
  }
 },
 "nbformat": 4,
 "nbformat_minor": 0
}
